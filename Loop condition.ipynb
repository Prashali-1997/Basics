{
 "cells": [
  {
   "cell_type": "code",
   "execution_count": 2,
   "metadata": {},
   "outputs": [
    {
     "name": "stdout",
     "output_type": "stream",
     "text": [
      "How many terms? 9\n",
      "Fibonacci sequence:\n",
      "0\n",
      "1\n",
      "1\n",
      "2\n",
      "3\n",
      "5\n",
      "8\n",
      "13\n",
      "21\n"
     ]
    }
   ],
   "source": [
    "#Loop program to display Fibonacci sequence upto nth term\n",
    "#Addition of 2 preceeding no.\n",
    "\n",
    "#input the nth term\n",
    "n = int(input(\"How many terms? \"))\n",
    "\n",
    "#First two terms\n",
    "n1 = 0\n",
    "n2 = 1\n",
    "\n",
    "count = 0\n",
    "\n",
    "#Check if input is 0 then it will\n",
    "#print incorrect input\n",
    "if n <= 0:\n",
    "    print(\"Incorrect input\")\n",
    "elif n == 1:       #Check if n is 1 #then it will return n1\n",
    "    print(\"Fibonacci sequence:\", n1)\n",
    "else:\n",
    "    print(\"Fibonacci sequence:\")\n",
    "    while count < n:\n",
    "        print(n1)\n",
    "        nth = n1 + n2\n",
    "        # update values\n",
    "        n1 = n2\n",
    "        n2 = nth\n",
    "        count += 1"
   ]
  },
  {
   "cell_type": "code",
   "execution_count": 1,
   "metadata": {},
   "outputs": [
    {
     "name": "stdout",
     "output_type": "stream",
     "text": [
      "12 5 64 "
     ]
    }
   ],
   "source": [
    "# Python program to print all positive Numbers in a List\n",
    "  \n",
    "# list of numbers\n",
    "list1 = [12, -7, 5, 64, -14]\n",
    "  \n",
    "# iterating each number in list\n",
    "for num in list1:\n",
    "      \n",
    "    # checking condition\n",
    "    if num >= 0:\n",
    "       print(num, end = \" \")"
   ]
  },
  {
   "cell_type": "code",
   "execution_count": 2,
   "metadata": {},
   "outputs": [
    {
     "name": "stdout",
     "output_type": "stream",
     "text": [
      "12 14 3 "
     ]
    }
   ],
   "source": [
    "# Python program to print all positive Numbers in a List\n",
    "  \n",
    "# list of numbers\n",
    "list2 = [12, 14, -95, 3]\n",
    "  \n",
    "# iterating each number in list\n",
    "for num in list2:\n",
    "      \n",
    "    # checking condition\n",
    "    if num >= 0:\n",
    "       print(num, end = \" \")"
   ]
  },
  {
   "cell_type": "code",
   "execution_count": null,
   "metadata": {},
   "outputs": [],
   "source": []
  }
 ],
 "metadata": {
  "kernelspec": {
   "display_name": "Python 3",
   "language": "python",
   "name": "python3"
  },
  "language_info": {
   "codemirror_mode": {
    "name": "ipython",
    "version": 3
   },
   "file_extension": ".py",
   "mimetype": "text/x-python",
   "name": "python",
   "nbconvert_exporter": "python",
   "pygments_lexer": "ipython3",
   "version": "3.8.5"
  }
 },
 "nbformat": 4,
 "nbformat_minor": 4
}
